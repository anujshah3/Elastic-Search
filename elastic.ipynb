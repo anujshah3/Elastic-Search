{
 "cells": [
  {
   "cell_type": "code",
   "execution_count": 1,
   "metadata": {},
   "outputs": [
    {
     "name": "stdout",
     "output_type": "stream",
     "text": [
      "Requirement already satisfied: elasticsearch in c:\\users\\uif13879\\appdata\\local\\programs\\python\\python310\\lib\\site-packages (7.9.1)\n",
      "Requirement already satisfied: certifi in c:\\users\\uif13879\\appdata\\local\\programs\\python\\python310\\lib\\site-packages (from elasticsearch) (2022.9.14)\n",
      "Requirement already satisfied: urllib3>=1.21.1 in c:\\users\\uif13879\\appdata\\local\\programs\\python\\python310\\lib\\site-packages (from elasticsearch) (1.26.12)\n"
     ]
    }
   ],
   "source": [
    "!pip install elasticsearch"
   ]
  },
  {
   "cell_type": "code",
   "execution_count": 2,
   "metadata": {},
   "outputs": [],
   "source": [
    "from elasticsearch import Elasticsearch\n",
    "from datetime import datetime"
   ]
  },
  {
   "cell_type": "code",
   "execution_count": 3,
   "metadata": {},
   "outputs": [],
   "source": [
    "def connect():\n",
    "    elastic = Elasticsearch(\"http://localhost:9200\")\n",
    "\n",
    "    # Successful response!\n",
    "    print(elastic.info())\n",
    "\n",
    "    if not elastic.ping():\n",
    "        print('Could not connect to Elastic Search!')\n",
    "    else:\n",
    "        print(\"Connected to elastic engine!\")\n",
    "        return elastic"
   ]
  },
  {
   "cell_type": "code",
   "execution_count": 4,
   "metadata": {},
   "outputs": [],
   "source": [
    "def create_index(elastic, name=\"\", body={}):\n",
    "    if elastic.indices.exists(name):\n",
    "        print(\"Index with the given name already exists!\")\n",
    "        return -1\n",
    "    else:\n",
    "        body = {\n",
    "            \"settings\": {\n",
    "                \"number_of_shards\": 1,\n",
    "                \"number_of_replicas\": 0\n",
    "            },\n",
    "        }\n",
    "        response = elastic.indices.create(index=name, ignore=400, body=body)\n",
    "        print(response)\n",
    "        return 1"
   ]
  },
  {
   "cell_type": "code",
   "execution_count": 5,
   "metadata": {},
   "outputs": [
    {
     "name": "stdout",
     "output_type": "stream",
     "text": [
      "{'name': '15c6715ee9b5', 'cluster_name': 'docker-cluster', 'cluster_uuid': '2l4BsHlgTKG8jIPsQ6ULUg', 'version': {'number': '7.8.1', 'build_flavor': 'default', 'build_type': 'docker', 'build_hash': 'b5ca9c58fb664ca8bf9e4057fc229b3396bf3a89', 'build_date': '2020-07-21T16:40:44.668009Z', 'build_snapshot': False, 'lucene_version': '8.5.1', 'minimum_wire_compatibility_version': '6.8.0', 'minimum_index_compatibility_version': '6.0.0-beta1'}, 'tagline': 'You Know, for Search'}\n",
      "Connected to elastic engine!\n"
     ]
    }
   ],
   "source": [
    "elastic = connect()"
   ]
  },
  {
   "cell_type": "code",
   "execution_count": 8,
   "metadata": {},
   "outputs": [
    {
     "name": "stdout",
     "output_type": "stream",
     "text": [
      "{'acknowledged': True, 'shards_acknowledged': True, 'index': 'capitals'}\n"
     ]
    },
    {
     "data": {
      "text/plain": [
       "1"
      ]
     },
     "execution_count": 8,
     "metadata": {},
     "output_type": "execute_result"
    }
   ],
   "source": [
    "# Create an Index\n",
    "create_index(elastic, \"capitals\")"
   ]
  },
  {
   "cell_type": "code",
   "execution_count": 7,
   "metadata": {},
   "outputs": [
    {
     "data": {
      "text/plain": [
       "{'acknowledged': True}"
      ]
     },
     "execution_count": 7,
     "metadata": {},
     "output_type": "execute_result"
    }
   ],
   "source": [
    "elastic.indices.delete(index='capitals', ignore=[400, 404])\n"
   ]
  },
  {
   "cell_type": "code",
   "execution_count": 9,
   "metadata": {},
   "outputs": [
    {
     "name": "stdout",
     "output_type": "stream",
     "text": [
      "{'acknowledged': True, 'shards_acknowledged': True, 'index': 'tests'}\n"
     ]
    },
    {
     "data": {
      "text/plain": [
       "1"
      ]
     },
     "execution_count": 9,
     "metadata": {},
     "output_type": "execute_result"
    }
   ],
   "source": [
    "# Create an Index\n",
    "create_index(elastic, \"tests\")"
   ]
  },
  {
   "cell_type": "code",
   "execution_count": 10,
   "metadata": {},
   "outputs": [
    {
     "data": {
      "text/plain": [
       "{'acknowledged': True}"
      ]
     },
     "execution_count": 10,
     "metadata": {},
     "output_type": "execute_result"
    }
   ],
   "source": [
    "# Delete an index\n",
    "elastic.indices.delete(index=\"tests\")"
   ]
  },
  {
   "cell_type": "code",
   "execution_count": 12,
   "metadata": {},
   "outputs": [
    {
     "data": {
      "text/plain": [
       "False"
      ]
     },
     "execution_count": 12,
     "metadata": {},
     "output_type": "execute_result"
    }
   ],
   "source": [
    "elastic.indices.exists(index=\"tests\")"
   ]
  },
  {
   "cell_type": "code",
   "execution_count": 13,
   "metadata": {},
   "outputs": [],
   "source": [
    "# Inserting data\n",
    "data_1 = {\"country\": \"India\", \"capital\": \"Delhi\", \"text\": \"Delh is the capital of India\"}\n",
    "data_2 = {\"country\": \"USA\", \"capital\": \"Washington DC\", \"text\": \"Washington DC is the capital of USA\"}\n",
    "data_3 = {\"country\": \"Belgium\", \"capital\": \"Brussel\", \"text\": \"Brussel is the capital of Belgium\"}\n",
    "data_4 = {\"country\": \"Canada\", \"capital\": \"Ottawa\", \"text\": \"Ottawa is the capital of Canada\"}"
   ]
  },
  {
   "cell_type": "code",
   "execution_count": 14,
   "metadata": {},
   "outputs": [
    {
     "name": "stderr",
     "output_type": "stream",
     "text": [
      "c:\\Users\\UIF13879\\AppData\\Local\\Programs\\Python\\Python310\\lib\\site-packages\\elasticsearch\\connection\\base.py:190: ElasticsearchDeprecationWarning: [types removal] Specifying types in document index requests is deprecated, use the typeless endpoints instead (/{index}/_doc/{id}, /{index}/_doc, or /{index}/_create/{id}).\n",
      "  warnings.warn(message, category=ElasticsearchDeprecationWarning)\n"
     ]
    },
    {
     "data": {
      "text/plain": [
       "{'_index': 'capitals',\n",
       " '_type': 'Places',\n",
       " '_id': 'TTiKRIQBhfFNwNqecdcn',\n",
       " '_version': 1,\n",
       " 'result': 'created',\n",
       " '_shards': {'total': 1, 'successful': 1, 'failed': 0},\n",
       " '_seq_no': 0,\n",
       " '_primary_term': 1}"
      ]
     },
     "execution_count": 14,
     "metadata": {},
     "output_type": "execute_result"
    }
   ],
   "source": [
    "elastic.index(index=\"capitals\", doc_type=\"Places\", body=data_1)"
   ]
  },
  {
   "cell_type": "code",
   "execution_count": 15,
   "metadata": {},
   "outputs": [
    {
     "data": {
      "text/plain": [
       "{'_index': 'capitals',\n",
       " '_type': 'Places',\n",
       " '_id': 'UjiKRIQBhfFNwNqem9dl',\n",
       " '_version': 1,\n",
       " 'result': 'created',\n",
       " '_shards': {'total': 1, 'successful': 1, 'failed': 0},\n",
       " '_seq_no': 1,\n",
       " '_primary_term': 1}"
      ]
     },
     "execution_count": 15,
     "metadata": {},
     "output_type": "execute_result"
    }
   ],
   "source": [
    "elastic.index(index=\"capitals\", doc_type=\"Places\", body=data_2)"
   ]
  },
  {
   "cell_type": "code",
   "execution_count": 16,
   "metadata": {},
   "outputs": [
    {
     "data": {
      "text/plain": [
       "{'_index': 'capitals',\n",
       " '_type': 'Places',\n",
       " '_id': 'VDiKRIQBhfFNwNqep9cR',\n",
       " '_version': 1,\n",
       " 'result': 'created',\n",
       " '_shards': {'total': 1, 'successful': 1, 'failed': 0},\n",
       " '_seq_no': 2,\n",
       " '_primary_term': 1}"
      ]
     },
     "execution_count": 16,
     "metadata": {},
     "output_type": "execute_result"
    }
   ],
   "source": [
    "elastic.index(index=\"capitals\", doc_type=\"Places\", body=data_3)"
   ]
  },
  {
   "cell_type": "code",
   "execution_count": 17,
   "metadata": {},
   "outputs": [
    {
     "data": {
      "text/plain": [
       "{'_index': 'capitals',\n",
       " '_type': 'Places',\n",
       " '_id': 'VjiKRIQBhfFNwNqerNfF',\n",
       " '_version': 1,\n",
       " 'result': 'created',\n",
       " '_shards': {'total': 1, 'successful': 1, 'failed': 0},\n",
       " '_seq_no': 3,\n",
       " '_primary_term': 1}"
      ]
     },
     "execution_count": 17,
     "metadata": {},
     "output_type": "execute_result"
    }
   ],
   "source": [
    "elastic.index(index=\"capitals\", doc_type=\"Places\", body=data_4)"
   ]
  },
  {
   "cell_type": "code",
   "execution_count": 18,
   "metadata": {},
   "outputs": [
    {
     "name": "stderr",
     "output_type": "stream",
     "text": [
      "c:\\Users\\UIF13879\\AppData\\Local\\Programs\\Python\\Python310\\lib\\site-packages\\elasticsearch\\connection\\base.py:190: ElasticsearchDeprecationWarning: [types removal] Specifying types in document update requests is deprecated, use the endpoint /{index}/_update/{id} instead.\n",
      "  warnings.warn(message, category=ElasticsearchDeprecationWarning)\n"
     ]
    },
    {
     "data": {
      "text/plain": [
       "{'_index': 'capitals',\n",
       " '_type': 'Places',\n",
       " '_id': 'TTiKRIQBhfFNwNqecdcn',\n",
       " '_version': 2,\n",
       " 'result': 'updated',\n",
       " '_shards': {'total': 1, 'successful': 1, 'failed': 0},\n",
       " '_seq_no': 4,\n",
       " '_primary_term': 1}"
      ]
     },
     "execution_count": 18,
     "metadata": {},
     "output_type": "execute_result"
    }
   ],
   "source": [
    "elastic.update(index='capitals',doc_type='Places',id=\"TTiKRIQBhfFNwNqecdcn\",\n",
    "                body={\n",
    "                    \"doc\": {\"country\": \"India\", \"capital\": \"Delhi\", \"text\": \"Delhi is the capital of India\"}, \n",
    "})"
   ]
  },
  {
   "cell_type": "code",
   "execution_count": 19,
   "metadata": {},
   "outputs": [
    {
     "name": "stdout",
     "output_type": "stream",
     "text": [
      "4\n"
     ]
    }
   ],
   "source": [
    "result = elastic.search(\n",
    "    index=\"capitals\",\n",
    "    body={\n",
    "        \"query\": {\n",
    "            \"match_all\": {}\n",
    "        }\n",
    "    }\n",
    ")\n",
    "print(len(result['hits']['hits']))"
   ]
  },
  {
   "cell_type": "code",
   "execution_count": 20,
   "metadata": {},
   "outputs": [
    {
     "data": {
      "text/plain": [
       "{'_index': 'capitals',\n",
       " '_type': 'Places',\n",
       " '_id': '10',\n",
       " '_version': 1,\n",
       " 'result': 'created',\n",
       " '_shards': {'total': 1, 'successful': 1, 'failed': 0},\n",
       " '_seq_no': 5,\n",
       " '_primary_term': 1}"
      ]
     },
     "execution_count": 20,
     "metadata": {},
     "output_type": "execute_result"
    }
   ],
   "source": [
    "elastic.update(index='capitals',doc_type='Places',id=\"10\",\n",
    "                body={\n",
    "                    \"doc\": {\"country\": \"India\", \"capital\": \"Delhi\", \"text\": \"Delhi is the capital of India!\"}, \n",
    "                    \"doc_as_upsert\": True\n",
    "})"
   ]
  },
  {
   "cell_type": "code",
   "execution_count": 21,
   "metadata": {},
   "outputs": [
    {
     "name": "stdout",
     "output_type": "stream",
     "text": [
      "5\n"
     ]
    }
   ],
   "source": [
    "result = elastic.search(\n",
    "    index=\"capitals\",\n",
    "    body={\n",
    "        \"query\": {\n",
    "            \"match_all\": {}\n",
    "        }\n",
    "    }\n",
    ")\n",
    "print(len(result['hits']['hits']))"
   ]
  },
  {
   "cell_type": "code",
   "execution_count": 22,
   "metadata": {},
   "outputs": [
    {
     "data": {
      "text/plain": [
       "{'took': 3,\n",
       " 'timed_out': False,\n",
       " '_shards': {'total': 1, 'successful': 1, 'skipped': 0, 'failed': 0},\n",
       " 'hits': {'total': {'value': 2, 'relation': 'eq'},\n",
       "  'max_score': None,\n",
       "  'hits': []}}"
      ]
     },
     "execution_count": 22,
     "metadata": {},
     "output_type": "execute_result"
    }
   ],
   "source": [
    "body = {\n",
    "    \"from\": 0,\n",
    "    \"size\": 0,\n",
    "    \"query\": {\n",
    "        \"match\": {\n",
    "            \"capital\": \"Delhi\"\n",
    "        }\n",
    "    }\n",
    "}\n",
    "elastic.search(index=\"capitals\", body=body)"
   ]
  },
  {
   "cell_type": "code",
   "execution_count": 23,
   "metadata": {},
   "outputs": [
    {
     "data": {
      "text/plain": [
       "{'took': 1,\n",
       " 'timed_out': False,\n",
       " '_shards': {'total': 1, 'successful': 1, 'skipped': 0, 'failed': 0},\n",
       " 'hits': {'total': {'value': 2, 'relation': 'eq'},\n",
       "  'max_score': 0.7361701,\n",
       "  'hits': [{'_index': 'capitals',\n",
       "    '_type': 'Places',\n",
       "    '_id': 'TTiKRIQBhfFNwNqecdcn',\n",
       "    '_score': 0.7361701,\n",
       "    '_source': {'country': 'India',\n",
       "     'capital': 'Delhi',\n",
       "     'text': 'Delhi is the capital of India'}},\n",
       "   {'_index': 'capitals',\n",
       "    '_type': 'Places',\n",
       "    '_id': '10',\n",
       "    '_score': 0.7361701,\n",
       "    '_source': {'country': 'India',\n",
       "     'capital': 'Delhi',\n",
       "     'text': 'Delhi is the capital of India!'}}]}}"
      ]
     },
     "execution_count": 23,
     "metadata": {},
     "output_type": "execute_result"
    }
   ],
   "source": [
    "body = {\n",
    "    \"from\": 0,\n",
    "    \"size\": 5,\n",
    "    \"query\": {\n",
    "        \"match\": {\n",
    "            \"capital\": \"Delhi\"\n",
    "        }\n",
    "    }\n",
    "}\n",
    "elastic.search(index=\"capitals\", body=body)"
   ]
  },
  {
   "cell_type": "code",
   "execution_count": 24,
   "metadata": {},
   "outputs": [
    {
     "data": {
      "text/plain": [
       "{'took': 3,\n",
       " 'timed_out': False,\n",
       " '_shards': {'total': 1, 'successful': 1, 'skipped': 0, 'failed': 0},\n",
       " 'hits': {'total': {'value': 5, 'relation': 'eq'},\n",
       "  'max_score': 1.3408768,\n",
       "  'hits': [{'_index': 'capitals',\n",
       "    '_type': 'Places',\n",
       "    '_id': 'TTiKRIQBhfFNwNqecdcn',\n",
       "    '_score': 1.3408768,\n",
       "    '_source': {'country': 'India',\n",
       "     'capital': 'Delhi',\n",
       "     'text': 'Delhi is the capital of India'}},\n",
       "   {'_index': 'capitals',\n",
       "    '_type': 'Places',\n",
       "    '_id': '10',\n",
       "    '_score': 1.3408768,\n",
       "    '_source': {'country': 'India',\n",
       "     'capital': 'Delhi',\n",
       "     'text': 'Delhi is the capital of India!'}},\n",
       "   {'_index': 'capitals',\n",
       "    '_type': 'Places',\n",
       "    '_id': 'VDiKRIQBhfFNwNqep9cR',\n",
       "    '_score': 0.29974607,\n",
       "    '_source': {'country': 'Belgium',\n",
       "     'capital': 'Brussel',\n",
       "     'text': 'Brussel is the capital of Belgium'}},\n",
       "   {'_index': 'capitals',\n",
       "    '_type': 'Places',\n",
       "    '_id': 'VjiKRIQBhfFNwNqerNfF',\n",
       "    '_score': 0.29974607,\n",
       "    '_source': {'country': 'Canada',\n",
       "     'capital': 'Ottawa',\n",
       "     'text': 'Ottawa is the capital of Canada'}},\n",
       "   {'_index': 'capitals',\n",
       "    '_type': 'Places',\n",
       "    '_id': 'UjiKRIQBhfFNwNqem9dl',\n",
       "    '_score': 0.28090286,\n",
       "    '_source': {'country': 'USA',\n",
       "     'capital': 'Washington DC',\n",
       "     'text': 'Washington DC is the capital of USA'}}]}}"
      ]
     },
     "execution_count": 24,
     "metadata": {},
     "output_type": "execute_result"
    }
   ],
   "source": [
    "body = {\n",
    "    \"from\": 0,\n",
    "    \"size\": 5,\n",
    "    \"query\": {\n",
    "        \"match\": {\n",
    "            \"text\": \"Delhi is the capital of \"\n",
    "        }\n",
    "    }\n",
    "}\n",
    "elastic.search(index=\"capitals\", body=body)"
   ]
  },
  {
   "cell_type": "code",
   "execution_count": 25,
   "metadata": {},
   "outputs": [
    {
     "data": {
      "text/plain": [
       "{'took': 4,\n",
       " 'timed_out': False,\n",
       " '_shards': {'total': 1, 'successful': 1, 'skipped': 0, 'failed': 0},\n",
       " 'hits': {'total': {'value': 5, 'relation': 'eq'},\n",
       "  'max_score': 0.22480953,\n",
       "  'hits': [{'_index': 'capitals',\n",
       "    '_type': 'Places',\n",
       "    '_id': 'VDiKRIQBhfFNwNqep9cR',\n",
       "    '_score': 0.22480953,\n",
       "    '_source': {'country': 'Belgium',\n",
       "     'capital': 'Brussel',\n",
       "     'text': 'Brussel is the capital of Belgium'}},\n",
       "   {'_index': 'capitals',\n",
       "    '_type': 'Places',\n",
       "    '_id': 'VjiKRIQBhfFNwNqerNfF',\n",
       "    '_score': 0.22480953,\n",
       "    '_source': {'country': 'Canada',\n",
       "     'capital': 'Ottawa',\n",
       "     'text': 'Ottawa is the capital of Canada'}},\n",
       "   {'_index': 'capitals',\n",
       "    '_type': 'Places',\n",
       "    '_id': 'TTiKRIQBhfFNwNqecdcn',\n",
       "    '_score': 0.22480953,\n",
       "    '_source': {'country': 'India',\n",
       "     'capital': 'Delhi',\n",
       "     'text': 'Delhi is the capital of India'}},\n",
       "   {'_index': 'capitals',\n",
       "    '_type': 'Places',\n",
       "    '_id': '10',\n",
       "    '_score': 0.22480953,\n",
       "    '_source': {'country': 'India',\n",
       "     'capital': 'Delhi',\n",
       "     'text': 'Delhi is the capital of India!'}},\n",
       "   {'_index': 'capitals',\n",
       "    '_type': 'Places',\n",
       "    '_id': 'UjiKRIQBhfFNwNqem9dl',\n",
       "    '_score': 0.21067715,\n",
       "    '_source': {'country': 'USA',\n",
       "     'capital': 'Washington DC',\n",
       "     'text': 'Washington DC is the capital of USA'}}]}}"
      ]
     },
     "execution_count": 25,
     "metadata": {},
     "output_type": "execute_result"
    }
   ],
   "source": [
    "body = {\n",
    "    \"from\": 0,\n",
    "    \"size\": 5,\n",
    "    \"query\": {\n",
    "        \"match_phrase\": {\n",
    "            \"text\": \"the capital of \"\n",
    "        }\n",
    "    }\n",
    "}\n",
    "elastic.search(index=\"capitals\", body=body)"
   ]
  },
  {
   "cell_type": "code",
   "execution_count": 27,
   "metadata": {},
   "outputs": [],
   "source": [
    "body = {\n",
    "    \"from\": 0,\n",
    "    \"size\": 5,\n",
    "    \"query\": {\n",
    "        \"bool\": {\n",
    "            \"must_not\": {\n",
    "                'match': {\n",
    "                    \"capital\": \"Ottawa\"\n",
    "                }\n",
    "            },\n",
    "        \"should\": {\n",
    "            \"match\": {\n",
    "                \"text\": \"is the capital of\"\n",
    "        }\n",
    "        }\n",
    "        }\n",
    "    }\n",
    "}\n",
    "res = elastic.search(index=\"capitals\", body=body)"
   ]
  },
  {
   "cell_type": "code",
   "execution_count": 28,
   "metadata": {},
   "outputs": [
    {
     "name": "stdout",
     "output_type": "stream",
     "text": [
      "[{'_index': 'capitals', '_type': 'Places', '_id': 'VDiKRIQBhfFNwNqep9cR', '_score': 0.29974607, '_source': {'country': 'Belgium', 'capital': 'Brussel', 'text': 'Brussel is the capital of Belgium'}}, {'_index': 'capitals', '_type': 'Places', '_id': 'TTiKRIQBhfFNwNqecdcn', '_score': 0.29974607, '_source': {'country': 'India', 'capital': 'Delhi', 'text': 'Delhi is the capital of India'}}, {'_index': 'capitals', '_type': 'Places', '_id': '10', '_score': 0.29974607, '_source': {'country': 'India', 'capital': 'Delhi', 'text': 'Delhi is the capital of India!'}}, {'_index': 'capitals', '_type': 'Places', '_id': 'UjiKRIQBhfFNwNqem9dl', '_score': 0.28090286, '_source': {'country': 'USA', 'capital': 'Washington DC', 'text': 'Washington DC is the capital of USA'}}]\n"
     ]
    }
   ],
   "source": [
    "print(res['hits']['hits'])"
   ]
  },
  {
   "cell_type": "code",
   "execution_count": 29,
   "metadata": {},
   "outputs": [
    {
     "data": {
      "text/plain": [
       "{'took': 11,\n",
       " 'timed_out': False,\n",
       " '_shards': {'total': 1, 'successful': 1, 'skipped': 0, 'failed': 0},\n",
       " 'hits': {'total': {'value': 5, 'relation': 'eq'},\n",
       "  'max_score': 1.0,\n",
       "  'hits': [{'_index': 'capitals',\n",
       "    '_type': 'Places',\n",
       "    '_id': 'UjiKRIQBhfFNwNqem9dl',\n",
       "    '_score': 1.0,\n",
       "    '_source': {'country': 'USA',\n",
       "     'capital': 'Washington DC',\n",
       "     'text': 'Washington DC is the capital of USA'}},\n",
       "   {'_index': 'capitals',\n",
       "    '_type': 'Places',\n",
       "    '_id': 'VDiKRIQBhfFNwNqep9cR',\n",
       "    '_score': 1.0,\n",
       "    '_source': {'country': 'Belgium',\n",
       "     'capital': 'Brussel',\n",
       "     'text': 'Brussel is the capital of Belgium'}},\n",
       "   {'_index': 'capitals',\n",
       "    '_type': 'Places',\n",
       "    '_id': 'VjiKRIQBhfFNwNqerNfF',\n",
       "    '_score': 1.0,\n",
       "    '_source': {'country': 'Canada',\n",
       "     'capital': 'Ottawa',\n",
       "     'text': 'Ottawa is the capital of Canada'}},\n",
       "   {'_index': 'capitals',\n",
       "    '_type': 'Places',\n",
       "    '_id': 'TTiKRIQBhfFNwNqecdcn',\n",
       "    '_score': 1.0,\n",
       "    '_source': {'country': 'India',\n",
       "     'capital': 'Delhi',\n",
       "     'text': 'Delhi is the capital of India'}},\n",
       "   {'_index': 'capitals',\n",
       "    '_type': 'Places',\n",
       "    '_id': '10',\n",
       "    '_score': 1.0,\n",
       "    '_source': {'country': 'India',\n",
       "     'capital': 'Delhi',\n",
       "     'text': 'Delhi is the capital of India!'}}]}}"
      ]
     },
     "execution_count": 29,
     "metadata": {},
     "output_type": "execute_result"
    }
   ],
   "source": [
    "body = {\n",
    "    \"from\": 0,\n",
    "    \"size\": 5,\n",
    "    \"query\": {\n",
    "        \"regexp\": {\n",
    "                \"country\": \".*\"\n",
    "        }\n",
    "    }\n",
    "}\n",
    "elastic.search(index=\"capitals\", body=body)"
   ]
  },
  {
   "cell_type": "code",
   "execution_count": null,
   "metadata": {},
   "outputs": [],
   "source": []
  },
  {
   "cell_type": "code",
   "execution_count": null,
   "metadata": {},
   "outputs": [],
   "source": []
  }
 ],
 "metadata": {
  "kernelspec": {
   "display_name": "Python 3.10.4 64-bit",
   "language": "python",
   "name": "python3"
  },
  "language_info": {
   "codemirror_mode": {
    "name": "ipython",
    "version": 3
   },
   "file_extension": ".py",
   "mimetype": "text/x-python",
   "name": "python",
   "nbconvert_exporter": "python",
   "pygments_lexer": "ipython3",
   "version": "3.10.4"
  },
  "orig_nbformat": 4,
  "vscode": {
   "interpreter": {
    "hash": "c5ff5da3ace9e38118ca386a22fb1bb897ca9882b54cb642788335c27462261e"
   }
  }
 },
 "nbformat": 4,
 "nbformat_minor": 2
}
